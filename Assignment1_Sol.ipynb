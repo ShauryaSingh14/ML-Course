{
  "nbformat": 4,
  "nbformat_minor": 0,
  "metadata": {
    "colab": {
      "name": "Assignment1_Sol.ipynb",
      "provenance": [],
      "authorship_tag": "ABX9TyPx6pEV+4O0V9Mqs5NzGikV",
      "include_colab_link": true
    },
    "kernelspec": {
      "name": "python3",
      "display_name": "Python 3"
    },
    "language_info": {
      "name": "python"
    }
  },
  "cells": [
    {
      "cell_type": "markdown",
      "metadata": {
        "id": "view-in-github",
        "colab_type": "text"
      },
      "source": [
        "<a href=\"https://colab.research.google.com/github/ShauryaSingh14/ML-Course/blob/ml/Assignment1_Sol.ipynb\" target=\"_parent\"><img src=\"https://colab.research.google.com/assets/colab-badge.svg\" alt=\"Open In Colab\"/></a>"
      ]
    },
    {
      "cell_type": "markdown",
      "source": [
        "Question 1:"
      ],
      "metadata": {
        "id": "UYimuP4_4gC1"
      }
    },
    {
      "cell_type": "code",
      "source": [
        "L = [11, 12 , 13 , 14]\n",
        "#1.WAP to add 50 and 60 to L. \n",
        "L.append(50)\n",
        "L.append(60)\n",
        "L"
      ],
      "metadata": {
        "colab": {
          "base_uri": "https://localhost:8080/"
        },
        "id": "hQzYpuhW4jaN",
        "outputId": "9e3e83ca-4ec5-471e-afb6-394568bb05cc"
      },
      "execution_count": null,
      "outputs": [
        {
          "output_type": "execute_result",
          "data": {
            "text/plain": [
              "[11, 12, 13, 14, 50, 60]"
            ]
          },
          "metadata": {},
          "execution_count": 42
        }
      ]
    },
    {
      "cell_type": "code",
      "source": [
        "#2. WAP to remove 11 and 13 from L.\n",
        "L.remove(11)\n",
        "L.remove(13)\n",
        "L"
      ],
      "metadata": {
        "colab": {
          "base_uri": "https://localhost:8080/"
        },
        "id": "LXYHLMsU5SSz",
        "outputId": "2026b557-000d-4af7-ac57-1a880728ed87"
      },
      "execution_count": null,
      "outputs": [
        {
          "output_type": "execute_result",
          "data": {
            "text/plain": [
              "[12, 14, 50, 60]"
            ]
          },
          "metadata": {},
          "execution_count": 43
        }
      ]
    },
    {
      "cell_type": "code",
      "source": [
        "#3. WAP to sort L in ascending order\n",
        "L.sort()\n",
        "print(L)\n",
        "#4. WAP to sort L in descending order\n",
        "L.sort(reverse=True)\n",
        "print(L)"
      ],
      "metadata": {
        "colab": {
          "base_uri": "https://localhost:8080/"
        },
        "id": "_GPN6v7H6Etb",
        "outputId": "3e47c9a4-ec3c-43fc-f4fc-db82b7083559"
      },
      "execution_count": null,
      "outputs": [
        {
          "output_type": "stream",
          "name": "stdout",
          "text": [
            "[12, 14, 50, 60]\n",
            "[60, 50, 14, 12]\n"
          ]
        }
      ]
    },
    {
      "cell_type": "code",
      "source": [
        "#5. WAP to search for 13 in L\n",
        "print(13 in L)\n",
        "#6. WAP to count the number of elements present in L\n",
        "print(len(L))\n",
        "#7. WAP to sum all the elements in L\n",
        "print(sum(L))"
      ],
      "metadata": {
        "colab": {
          "base_uri": "https://localhost:8080/"
        },
        "id": "AnoUHO2P6WLo",
        "outputId": "a2c9af9e-114c-4670-807e-19efe5aa188e"
      },
      "execution_count": null,
      "outputs": [
        {
          "output_type": "stream",
          "name": "stdout",
          "text": [
            "False\n",
            "4\n",
            "136\n"
          ]
        }
      ]
    },
    {
      "cell_type": "code",
      "source": [
        "#8.WAP to sum all ODD numbers in L.\n",
        "Odd = [i for i in L if i%2 != 0]\n",
        "print(Odd)\n",
        "#9. WAP to sum all EVEN numbers in L.\n",
        "Even = [i for i in L if i%2 == 0]\n",
        "print(Even)\n"
      ],
      "metadata": {
        "colab": {
          "base_uri": "https://localhost:8080/"
        },
        "id": "3y28KUk5_3Vo",
        "outputId": "ee3f1f41-f966-4c81-d205-160ffa499155"
      },
      "execution_count": null,
      "outputs": [
        {
          "output_type": "stream",
          "name": "stdout",
          "text": [
            "[]\n",
            "[60, 50, 14, 12]\n"
          ]
        }
      ]
    },
    {
      "cell_type": "code",
      "source": [
        "#10. WAP to sum all PRIME numbers in L\n",
        "# for num in L:\n",
        "#   if(num>1):\n",
        "#     for i in range(2,num):\n",
        "#       if (num % i) == 0:\n",
        "#         break\n",
        "#       else:\n",
        "#         print(L)"
      ],
      "metadata": {
        "id": "d9-2BFDQrl--"
      },
      "execution_count": null,
      "outputs": []
    },
    {
      "cell_type": "code",
      "source": [
        "#11. WAP to clear all the elements in L.\n",
        "L.clear()\n",
        "#12. WAP to delete L\n",
        "del L"
      ],
      "metadata": {
        "id": "6eIjWkgir1y9"
      },
      "execution_count": null,
      "outputs": []
    },
    {
      "cell_type": "markdown",
      "source": [
        "QUESTION 2\n"
      ],
      "metadata": {
        "id": "jMva7tHTvgF9"
      }
    },
    {
      "cell_type": "code",
      "source": [
        "D= {1:5.6, 2:7.8, 3:6.6, 4:8.7, 5:7.7}\n",
        "#1. WAP to add new entry in D; key=8 and value is 8.8\n",
        "D[8] = 8.8\n",
        "#2. WAP to remove key=2.\n",
        "D.pop(2)\n",
        "#3. WAP to check weather 6 key is present in D.\n",
        "print(6 in D)\n",
        "#4. WAP to count the number of elements present in D.\n",
        "print(len(D))\n"
      ],
      "metadata": {
        "colab": {
          "base_uri": "https://localhost:8080/"
        },
        "id": "GRK6budMr3Av",
        "outputId": "cdd6f2c7-85fb-403f-d68b-9deacdda95f2"
      },
      "execution_count": null,
      "outputs": [
        {
          "output_type": "stream",
          "name": "stdout",
          "text": [
            "False\n",
            "5\n"
          ]
        }
      ]
    },
    {
      "cell_type": "code",
      "source": [
        "#5. WAP to add all the values present D.\n",
        "print(sum(D))\n",
        "#6. WAP to update the value of 3 to 7.1.\n",
        "D[3] = 7.1\n",
        "#7. WAP to clear the dictionary.\n",
        "D.clear()"
      ],
      "metadata": {
        "colab": {
          "base_uri": "https://localhost:8080/"
        },
        "id": "DPQhsutFyFqA",
        "outputId": "6d8357e8-85e6-444c-9fbd-a1f9404c86f3"
      },
      "execution_count": null,
      "outputs": [
        {
          "output_type": "stream",
          "name": "stdout",
          "text": [
            "21\n"
          ]
        }
      ]
    },
    {
      "cell_type": "markdown",
      "source": [
        "Question 3.\n"
      ],
      "metadata": {
        "id": "cK-uTopcz62r"
      }
    },
    {
      "cell_type": "code",
      "source": [
        "S1= {10, 20, 30, 40, 50, 60}\n",
        "S2= {40, 50, 60, 70, 80, 90}\n",
        "#1. WAP to add 55 and 66 in Set S1.\n",
        "S1.add(55)\n",
        "S1.add(66)\n",
        "#2. WAP to remove 10 and 30 from Set S1.\n",
        "S1.remove(10)\n",
        "S1.remove(30)\n",
        "#3. WAP to check whether 40 is present in S1.\n",
        "print(40 in S1)\n"
      ],
      "metadata": {
        "colab": {
          "base_uri": "https://localhost:8080/"
        },
        "id": "YADUx2VEyd36",
        "outputId": "7c7e15fa-d45b-40ae-d1eb-600a29a5403d"
      },
      "execution_count": null,
      "outputs": [
        {
          "output_type": "stream",
          "name": "stdout",
          "text": [
            "True\n"
          ]
        }
      ]
    },
    {
      "cell_type": "code",
      "source": [
        "#4. WAP to find the union between S1 and S2.\n",
        "print(S1.union(S2))\n",
        "#5. WAP to find the intersection between S1 and S2.\n",
        "print(S1.intersection(S2))\n",
        "#6. WAP to find the S1 - S2.\n",
        "print(S1 - S2)"
      ],
      "metadata": {
        "colab": {
          "base_uri": "https://localhost:8080/"
        },
        "id": "GGgurkw40e7X",
        "outputId": "6accf958-b8a8-4c8e-c005-f0c03128476c"
      },
      "execution_count": null,
      "outputs": [
        {
          "output_type": "stream",
          "name": "stdout",
          "text": [
            "{66, 70, 40, 80, 50, 20, 55, 90, 60}\n",
            "{40, 50, 60}\n",
            "{66, 20, 55}\n"
          ]
        }
      ]
    },
    {
      "cell_type": "code",
      "source": [
        "import random as r\n",
        "import string as s\n",
        "#1. WAP to print 100 random strings whose length between 6 and 8. NOT Properly Done\n",
        "ls = []\n",
        "for i in range(0,100):\n",
        "  str = r.sample(s.ascii_letters,6)\n",
        "  str =\"\".join(str)\n",
        "  ls.append(str)\n",
        "print(ls)"
      ],
      "metadata": {
        "colab": {
          "base_uri": "https://localhost:8080/"
        },
        "id": "v7DwGXDp1of0",
        "outputId": "6943768c-0787-42fb-a735-fb995ebbea73"
      },
      "execution_count": null,
      "outputs": [
        {
          "output_type": "stream",
          "name": "stdout",
          "text": [
            "['LnDxBp', 'FDbkyw', 'ViHROx', 'Iswyhz', 'yoLXFn', 'hXxepK', 'rgMHQA', 'zhKQTZ', 'iQlpUk', 'MrwRSt', 'mlzXiZ', 'YEZkQx', 'DbEXHR', 'ImxNHZ', 'iDdplo', 'TRJHbN', 'nxjvpW', 'QdCpVR', 'VMIXuw', 'bDKoTA', 'nPGXbq', 'taxFwN', 'UERTSD', 'NiCgOY', 'gdmxVZ', 'kmVWPJ', 'SWJElC', 'UnscPT', 'zmujqT', 'HzlMDW', 'kYPrDg', 'Sncbvx', 'KmHDeG', 'cahfdQ', 'wGtLnN', 'oxdWtP', 'KlnpUd', 'troAmX', 'yTPgxH', 'tERObd', 'uxfRIJ', 'pgLjSi', 'QPmjzL', 'MCEwiA', 'vksMIm', 'hBQRuc', 'DMZwTe', 'HsyQwr', 'eSqCgk', 'ZKhwbp', 'pMOFod', 'yrjcih', 'sKnJrG', 'vaGnck', 'oSCxBP', 'jhqMxw', 'CKrqki', 'MSPFHa', 'VJvfQh', 'TIXwRU', 'oVtJIB', 'QkTSxh', 'XHpMEx', 'wsUfKL', 'CLEHxg', 'cdErKV', 'tTznaC', 'ixcdHM', 'jWrXfB', 'XdpJoA', 'KGAXli', 'SjNhkP', 'bRkcNG', 'MbuRoH', 'ePTLYm', 'saIjhB', 'YMuGEL', 'mEKqPt', 'NuaObj', 'OSaTYD', 'oTnruv', 'MOCEpa', 'gfdIti', 'ZBVtkf', 'qEvjUH', 'twuCNb', 'MYTquK', 'tFvhXS', 'gthBlS', 'CjnKyk', 'syPTcb', 'TsYDHP', 'NPGUng', 'zvCTdP', 'BJExcL', 'TGbXaF', 'ZRUyAu', 'fpCJex', 'eAmdDi', 'tqSsTE']\n"
          ]
        }
      ]
    },
    {
      "cell_type": "code",
      "source": [
        ""
      ],
      "metadata": {
        "id": "5xeXKaER8MN2"
      },
      "execution_count": null,
      "outputs": []
    }
  ]
}